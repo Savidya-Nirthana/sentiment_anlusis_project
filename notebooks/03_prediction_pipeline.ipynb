{
 "cells": [
  {
   "cell_type": "code",
   "execution_count": 11,
   "id": "0399546e-1187-4ee3-988d-a1bea4660a1d",
   "metadata": {},
   "outputs": [],
   "source": [
    "import pandas as pd\n",
    "import re\n",
    "from nltk.stem import PorterStemmer, WordNetLemmatizer\n",
    "from nltk.corpus import stopwords\n",
    "import pickle"
   ]
  },
  {
   "cell_type": "code",
   "execution_count": null,
   "id": "a2e66aa5-a8da-44b0-969d-82a971885cf5",
   "metadata": {},
   "outputs": [],
   "source": [
    "with open('../static/model/tfidf_vectorizer.pickle', 'rb') as f:\n",
    "    tfidf = pickle.load(f)\n",
    "with open('../static/model/model.pickle', 'rb') as f:\n",
    "    model = pickle.load(f)"
   ]
  },
  {
   "cell_type": "code",
   "execution_count": 39,
   "id": "70d1240b-f685-4bc0-b026-a92a00a9740e",
   "metadata": {},
   "outputs": [],
   "source": [
    "ps = PorterStemmer()\n",
    "lem = WordNetLemmatizer()\n",
    "def data_cleaning(text):\n",
    "    review = re.sub('[^a-zA-Z]',' ' ,text)\n",
    "    review = re.sub(r'https?:\\/\\/.*[\\r\\n]*',' ',review, flags=re.MULTILINE)\n",
    "    review = review.lower()\n",
    "    review = review.split()\n",
    "    review = [lem.lemmatize(word) for word in review if word not in set(stopwords.words('english'))]\n",
    "    review = \" \".join(review)\n",
    "    return review"
   ]
  },
  {
   "cell_type": "code",
   "execution_count": 42,
   "id": "6963c937-c92e-468e-ba5b-4f6590b28d3a",
   "metadata": {},
   "outputs": [],
   "source": [
    "text = \"bad product.i am not like it\""
   ]
  },
  {
   "cell_type": "code",
   "execution_count": 43,
   "id": "cd576ee1-f7de-43ba-9d31-5f5a3e9f5b85",
   "metadata": {},
   "outputs": [
    {
     "data": {
      "text/plain": [
       "array([1], dtype=int64)"
      ]
     },
     "execution_count": 43,
     "metadata": {},
     "output_type": "execute_result"
    }
   ],
   "source": [
    "clean_text = data_cleaning(text)\n",
    "vectorized_text = tfidf.transform([clean_text]).toarray()\n",
    "model.predict(vectorized_text)"
   ]
  },
  {
   "cell_type": "code",
   "execution_count": null,
   "id": "7df3b0b2-8436-4839-a0c4-d229faa66cfb",
   "metadata": {},
   "outputs": [],
   "source": []
  },
  {
   "cell_type": "code",
   "execution_count": null,
   "id": "aa3ac7b0-ff6a-4096-b28d-c30b204fbc47",
   "metadata": {},
   "outputs": [],
   "source": []
  },
  {
   "cell_type": "code",
   "execution_count": null,
   "id": "d53fa47c-c076-4fa3-a108-ed1c7de2cf83",
   "metadata": {},
   "outputs": [],
   "source": []
  },
  {
   "cell_type": "code",
   "execution_count": null,
   "id": "d1cacb6a-ffb6-4887-b7b5-1d27d597cf30",
   "metadata": {},
   "outputs": [],
   "source": []
  },
  {
   "cell_type": "code",
   "execution_count": null,
   "id": "5cd0c86a-4ac3-49a3-94a0-c3a08f25b831",
   "metadata": {},
   "outputs": [],
   "source": []
  },
  {
   "cell_type": "code",
   "execution_count": null,
   "id": "6904094c-d8ab-4721-bc4d-2f12ae6336e7",
   "metadata": {},
   "outputs": [],
   "source": []
  }
 ],
 "metadata": {
  "kernelspec": {
   "display_name": "Python 3 (ipykernel)",
   "language": "python",
   "name": "python3"
  },
  "language_info": {
   "codemirror_mode": {
    "name": "ipython",
    "version": 3
   },
   "file_extension": ".py",
   "mimetype": "text/x-python",
   "name": "python",
   "nbconvert_exporter": "python",
   "pygments_lexer": "ipython3",
   "version": "3.11.6"
  }
 },
 "nbformat": 4,
 "nbformat_minor": 5
}
